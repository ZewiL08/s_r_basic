{
 "cells": [
  {
   "cell_type": "code",
   "execution_count": 2,
   "metadata": {},
   "outputs": [],
   "source": [
    "import pickle\n"
   ]
  },
  {
   "cell_type": "code",
   "execution_count": 15,
   "metadata": {},
   "outputs": [],
   "source": [
    "def load_lists_from_pickle(filename):\n",
    "    with open(filename, 'rb') as file:\n",
    "        list_of_draw_low = pickle.load(file)\n",
    "        list_of_draw_high = pickle.load(file)\n",
    "        list_of_interval = pickle.load(file)\n",
    "    return list_of_draw_low, list_of_draw_high, list_of_interval\n",
    "\n",
    "def good_format(list_of_draw) :\n",
    "    converted_list = []\n",
    "    for elt in list_of_draw :\n",
    "        x1 = str(elt[0][0])\n",
    "        y1 = str(elt[0][1])\n",
    "        x1 += \" * 86400000 + int(specificDay)\"\n",
    "\n",
    "        x2 = str(elt[1][0])\n",
    "        y2 = str(elt[1][1])\n",
    "        x2 += \" * 86400000 + int(specificDay)\"\n",
    "        converted_list.append(((x1,y1),(x2,y2)))\n",
    "    return converted_list"
   ]
  },
  {
   "cell_type": "code",
   "execution_count": 18,
   "metadata": {},
   "outputs": [
    {
     "name": "stdout",
     "output_type": "stream",
     "text": [
      "[(('0 * 86400000 + int(specificDay)', '16498.995356801075'), ('5 * 86400000 + int(specificDay)', '16678.91686999694')), (('5 * 86400000 + int(specificDay)', '16678.91686999694'), ('10 * 86400000 + int(specificDay)', '17315.61730493984')), (('10 * 86400000 + int(specificDay)', '17315.61730493984'), ('17 * 86400000 + int(specificDay)', '20406.624184870685')), (('17 * 86400000 + int(specificDay)', '20406.624184870685'), ('21 * 86400000 + int(specificDay)', '22292.501323902918')), (('21 * 86400000 + int(specificDay)', '22292.501323902918'), ('29 * 86400000 + int(specificDay)', '22500.027348527547')), (('29 * 86400000 + int(specificDay)', '22500.027348527547'), ('30 * 86400000 + int(specificDay)', '22714.824018788968')), (('30 * 86400000 + int(specificDay)', '22714.824018788968'), ('39 * 86400000 + int(specificDay)', '21688.066960518427')), (('39 * 86400000 + int(specificDay)', '21688.066960518427'), ('43 * 86400000 + int(specificDay)', '21351.231064033906')), (('43 * 86400000 + int(specificDay)', '21351.231064033906'), ('45 * 86400000 + int(specificDay)', '22047.38245767293')), (('45 * 86400000 + int(specificDay)', '22047.38245767293'), ('54 * 86400000 + int(specificDay)', '22841.38129568573')), (('54 * 86400000 + int(specificDay)', '22841.38129568573'), ('55 * 86400000 + int(specificDay)', '22722.21564629696')), (('55 * 86400000 + int(specificDay)', '22722.21564629696'), ('61 * 86400000 + int(specificDay)', '21971.387373631344')), (('61 * 86400000 + int(specificDay)', '21971.387373631344'), ('68 * 86400000 + int(specificDay)', '19549.24001510092')), (('68 * 86400000 + int(specificDay)', '19549.24001510092'), ('70 * 86400000 + int(specificDay)', '20272.13573778733')), (('70 * 86400000 + int(specificDay)', '20272.13573778733'), ('75 * 86400000 + int(specificDay)', '24890.52513967218')), (('75 * 86400000 + int(specificDay)', '24890.52513967218'), ('80 * 86400000 + int(specificDay)', '26603.69007344412')), (('80 * 86400000 + int(specificDay)', '26603.69007344412'), ('85 * 86400000 + int(specificDay)', '26508.962046989647')), (('85 * 86400000 + int(specificDay)', '26508.962046989647'), ('92 * 86400000 + int(specificDay)', '27201.28914025305')), (('92 * 86400000 + int(specificDay)', '27201.28914025305'), ('95 * 86400000 + int(specificDay)', '27711.310281030637')), (('95 * 86400000 + int(specificDay)', '27711.310281030637'), ('100 * 86400000 + int(specificDay)', '29591.027369344432')), (('100 * 86400000 + int(specificDay)', '29591.027369344432'), ('109 * 86400000 + int(specificDay)', '28009.845576116564')), (('109 * 86400000 + int(specificDay)', '28009.845576116564'), ('113 * 86400000 + int(specificDay)', '26944.36287676185')), (('113 * 86400000 + int(specificDay)', '26944.36287676185'), ('115 * 86400000 + int(specificDay)', '27235.27463772333')), (('115 * 86400000 + int(specificDay)', '27235.27463772333'), ('120 * 86400000 + int(specificDay)', '27666.90889723048')), (('120 * 86400000 + int(specificDay)', '27666.90889723048'), ('129 * 86400000 + int(specificDay)', '26779.502312357206')), (('129 * 86400000 + int(specificDay)', '26779.502312357206'), ('131 * 86400000 + int(specificDay)', '25810.689703368032')), (('131 * 86400000 + int(specificDay)', '25810.689703368032'), ('137 * 86400000 + int(specificDay)', '26361.697027887105')), (('137 * 86400000 + int(specificDay)', '26361.697027887105'), ('144 * 86400000 + int(specificDay)', '25872.147459575324')), (('144 * 86400000 + int(specificDay)', '25872.147459575324'), ('145 * 86400000 + int(specificDay)', '26327.72811828397')), (('145 * 86400000 + int(specificDay)', '26327.72811828397'), ('152 * 86400000 + int(specificDay)', '26505.61494468248')), (('152 * 86400000 + int(specificDay)', '26505.61494468248'), ('156 * 86400000 + int(specificDay)', '25350.964103953644')), (('156 * 86400000 + int(specificDay)', '25350.964103953644'), ('164 * 86400000 + int(specificDay)', '24820.47039057993')), (('164 * 86400000 + int(specificDay)', '24820.47039057993'), ('165 * 86400000 + int(specificDay)', '24797.541202427936')), (('165 * 86400000 + int(specificDay)', '24797.541202427936'), ('170 * 86400000 + int(specificDay)', '26651.957088971933')), (('170 * 86400000 + int(specificDay)', '26651.957088971933'), ('178 * 86400000 + int(specificDay)', '29859.205882065657')), (('178 * 86400000 + int(specificDay)', '29859.205882065657'), ('180 * 86400000 + int(specificDay)', '29500.419178339333')), (('180 * 86400000 + int(specificDay)', '29500.419178339333'), ('187 * 86400000 + int(specificDay)', '29702.1207078174')), (('187 * 86400000 + int(specificDay)', '29702.1207078174'), ('194 * 86400000 + int(specificDay)', '29902.584611970167')), (('194 * 86400000 + int(specificDay)', '29902.584611970167'), ('198 * 86400000 + int(specificDay)', '29512.46570412377')), (('198 * 86400000 + int(specificDay)', '29512.46570412377'), ('204 * 86400000 + int(specificDay)', '28860.578936161437')), (('204 * 86400000 + int(specificDay)', '28860.578936161437'), ('205 * 86400000 + int(specificDay)', '29047.988275992782')), (('205 * 86400000 + int(specificDay)', '29047.988275992782'), ('212 * 86400000 + int(specificDay)', '28585.12703054906')), (('212 * 86400000 + int(specificDay)', '28585.12703054906'), ('218 * 86400000 + int(specificDay)', '28699.695177879945')), (('218 * 86400000 + int(specificDay)', '28699.695177879945'), ('222 * 86400000 + int(specificDay)', '29251.25962151257')), (('222 * 86400000 + int(specificDay)', '29251.25962151257'), ('228 * 86400000 + int(specificDay)', '25217.743564769567')), (('228 * 86400000 + int(specificDay)', '25217.743564769567'), ('233 * 86400000 + int(specificDay)', '25302.477469472706')), (('233 * 86400000 + int(specificDay)', '25302.477469472706'), ('236 * 86400000 + int(specificDay)', '25775.259537373026')), (('236 * 86400000 + int(specificDay)', '25775.259537373026'), ('243 * 86400000 + int(specificDay)', '25333.71562978681')), (('243 * 86400000 + int(specificDay)', '25333.71562978681'), ('248 * 86400000 + int(specificDay)', '25373.114155215244')), (('248 * 86400000 + int(specificDay)', '25373.114155215244'), ('253 * 86400000 + int(specificDay)', '24901.876589705866')), (('253 * 86400000 + int(specificDay)', '24901.876589705866'), ('255 * 86400000 + int(specificDay)', '25764.067555194142')), (('255 * 86400000 + int(specificDay)', '25764.067555194142'), ('260 * 86400000 + int(specificDay)', '26377.558227149173')), (('260 * 86400000 + int(specificDay)', '26377.558227149173'), ('267 * 86400000 + int(specificDay)', '25989.8218017448')), (('267 * 86400000 + int(specificDay)', '25989.8218017448'), ('270 * 86400000 + int(specificDay)', '26341.382967134698')), (('270 * 86400000 + int(specificDay)', '26341.382967134698'), ('275 * 86400000 + int(specificDay)', '27160.90980638263')), (('275 * 86400000 + int(specificDay)', '27160.90980638263'), ('283 * 86400000 + int(specificDay)', '26538.366487253')), (('283 * 86400000 + int(specificDay)', '26538.366487253'), ('285 * 86400000 + int(specificDay)', '26684.49144627051')), (('285 * 86400000 + int(specificDay)', '26684.49144627051'), ('291 * 86400000 + int(specificDay)', '28102.20251614902')), (('291 * 86400000 + int(specificDay)', '28102.20251614902'), ('295 * 86400000 + int(specificDay)', '29884.34842991471')), (('295 * 86400000 + int(specificDay)', '29884.34842991471'), ('300 * 86400000 + int(specificDay)', '33860.78804801793')), (('300 * 86400000 + int(specificDay)', '33860.78804801793'), ('306 * 86400000 + int(specificDay)', '34120.399754272024')), (('306 * 86400000 + int(specificDay)', '34120.399754272024'), ('310 * 86400000 + int(specificDay)', '34523.36623059004')), (('310 * 86400000 + int(specificDay)', '34523.36623059004'), ('317 * 86400000 + int(specificDay)', '34807.34514559734')), (('317 * 86400000 + int(specificDay)', '34807.34514559734'), ('324 * 86400000 + int(specificDay)', '35736.20546177223')), (('324 * 86400000 + int(specificDay)', '35736.20546177223'), ('325 * 86400000 + int(specificDay)', '35632.84428137093')), (('325 * 86400000 + int(specificDay)', '35632.84428137093'), ('330 * 86400000 + int(specificDay)', '36707.9289240433')), (('330 * 86400000 + int(specificDay)', '36707.9289240433'), ('335 * 86400000 + int(specificDay)', '38642.38926750881')), (('335 * 86400000 + int(specificDay)', '38642.38926750881'), ('344 * 86400000 + int(specificDay)', '40219.84096297762')), (('344 * 86400000 + int(specificDay)', '40219.84096297762'), ('346 * 86400000 + int(specificDay)', '40556.8536980557')), (('346 * 86400000 + int(specificDay)', '40556.8536980557'), ('351 * 86400000 + int(specificDay)', '40541.508502634046')), (('351 * 86400000 + int(specificDay)', '40541.508502634046'), ('359 * 86400000 + int(specificDay)', '41637.67974060644')), (('359 * 86400000 + int(specificDay)', '41637.67974060644'), ('362 * 86400000 + int(specificDay)', '41300.362617514256')), (('362 * 86400000 + int(specificDay)', '41300.362617514256'), ('367 * 86400000 + int(specificDay)', '40782.90273502193')), (('367 * 86400000 + int(specificDay)', '40782.90273502193'), ('372 * 86400000 + int(specificDay)', '43176.80769287837')), (('372 * 86400000 + int(specificDay)', '43176.80769287837'), ('376 * 86400000 + int(specificDay)', '41500.51195832253')), (('376 * 86400000 + int(specificDay)', '41500.51195832253'), ('383 * 86400000 + int(specificDay)', '40278.86165918759')), (('383 * 86400000 + int(specificDay)', '40278.86165918759'), ('387 * 86400000 + int(specificDay)', '38552.7417378765')), (('387 * 86400000 + int(specificDay)', '38552.7417378765'), ('390 * 86400000 + int(specificDay)', '39821.51445583688')), (('390 * 86400000 + int(specificDay)', '39821.51445583688'), ('396 * 86400000 + int(specificDay)', '41883.00547783756')), (('396 * 86400000 + int(specificDay)', '41883.00547783756'), ('400 * 86400000 + int(specificDay)', '42257.19164899751')), (('400 * 86400000 + int(specificDay)', '42257.19164899751'), ('405 * 86400000 + int(specificDay)', '46803.85187792284'))]\n"
     ]
    }
   ],
   "source": [
    "filename = \"lists_data_5.pickle\" \n",
    "list_of_draw_low_5, list_of_draw_high_5, list_of_interval_5 = load_lists_from_pickle(filename)\n",
    "\n",
    "converted_low = good_format(list_of_draw_low_5)\n",
    "converted_high = good_format(list_of_draw_high_5)\n",
    "print(converted_low)\n",
    "\n",
    "file = open(\"./script_pina.txt\", 'w')\n",
    "file.write(\"\"\"//@version=5\n",
    "indicator(\"Custom Line Drawing\", overlay=true)\n",
    "           \n",
    "specificDay = timestamp(2023, 1, 1)\n",
    "        \n",
    "drawLine() =>\n",
    "\"\"\")\n",
    "\n",
    "for i,elt in enumerate(converted_low) :\n",
    "    string_to_write = f\"\\tline.new({elt[0][0]}, {elt[0][1]}, {elt[1][0]}, {elt[1][1]}, width=2, color=color.blue, xloc=xloc.bar_time)\\n\"\n",
    "    elt2 = converted_high[i]\n",
    "    string_to_write_2 = f\"\\tline.new({elt2[0][0]}, {elt2[0][1]}, {elt2[1][0]}, {elt2[1][1]}, width=2, color=color.red, xloc=xloc.bar_time)\\n\"\n",
    "\n",
    "    file.write(string_to_write)\n",
    "    file.write(string_to_write_2)\n",
    "\n",
    "\n",
    "file.write(\"\"\"\n",
    "// Call the function to draw the line\n",
    "drawLine()\n",
    "\n",
    "\"\"\")\n",
    "\n",
    "file.close()\n"
   ]
  },
  {
   "cell_type": "code",
   "execution_count": 19,
   "metadata": {},
   "outputs": [
    {
     "name": "stdout",
     "output_type": "stream",
     "text": [
      "[(('0 * 86400000 + int(specificDay)', '16498.995356801075'), ('39 * 86400000 + int(specificDay)', '21688.066960518427')), (('39 * 86400000 + int(specificDay)', '21688.066960518427'), ('43 * 86400000 + int(specificDay)', '21351.231064033906')), (('43 * 86400000 + int(specificDay)', '21351.231064033906'), ('68 * 86400000 + int(specificDay)', '19549.24001510092')), (('68 * 86400000 + int(specificDay)', '19549.24001510092'), ('85 * 86400000 + int(specificDay)', '26508.962046989647')), (('85 * 86400000 + int(specificDay)', '26508.962046989647'), ('113 * 86400000 + int(specificDay)', '26944.36287676185')), (('113 * 86400000 + int(specificDay)', '26944.36287676185'), ('131 * 86400000 + int(specificDay)', '25810.689703368032')), (('131 * 86400000 + int(specificDay)', '25810.689703368032'), ('156 * 86400000 + int(specificDay)', '25350.964103953644')), (('156 * 86400000 + int(specificDay)', '25350.964103953644'), ('165 * 86400000 + int(specificDay)', '24797.541202427936')), (('165 * 86400000 + int(specificDay)', '24797.541202427936'), ('180 * 86400000 + int(specificDay)', '29500.419178339333')), (('180 * 86400000 + int(specificDay)', '29500.419178339333'), ('212 * 86400000 + int(specificDay)', '28585.12703054906')), (('212 * 86400000 + int(specificDay)', '28585.12703054906'), ('228 * 86400000 + int(specificDay)', '25217.743564769567')), (('228 * 86400000 + int(specificDay)', '25217.743564769567'), ('253 * 86400000 + int(specificDay)', '24901.876589705866')), (('253 * 86400000 + int(specificDay)', '24901.876589705866'), ('267 * 86400000 + int(specificDay)', '25989.8218017448')), (('267 * 86400000 + int(specificDay)', '25989.8218017448'), ('283 * 86400000 + int(specificDay)', '26538.366487253')), (('283 * 86400000 + int(specificDay)', '26538.366487253'), ('300 * 86400000 + int(specificDay)', '33860.78804801793')), (('300 * 86400000 + int(specificDay)', '33860.78804801793'), ('325 * 86400000 + int(specificDay)', '35632.84428137093')), (('325 * 86400000 + int(specificDay)', '35632.84428137093'), ('344 * 86400000 + int(specificDay)', '40219.84096297762')), (('344 * 86400000 + int(specificDay)', '40219.84096297762'), ('367 * 86400000 + int(specificDay)', '40782.90273502193')), (('367 * 86400000 + int(specificDay)', '40782.90273502193'), ('387 * 86400000 + int(specificDay)', '38552.7417378765'))]\n"
     ]
    }
   ],
   "source": [
    "filename = \"lists_data_20.pickle\" \n",
    "list_of_draw_low_20, list_of_draw_high_20, list_of_interval_20 = load_lists_from_pickle(filename)\n",
    "\n",
    "converted_low = good_format(list_of_draw_low_20)\n",
    "converted_high = good_format(list_of_draw_high_20)\n",
    "print(converted_low)\n",
    "\n",
    "file = open(\"./script_pina_2.txt\", 'w')\n",
    "file.write(\"\"\"//@version=5\n",
    "indicator(\"Custom Line Drawing\", overlay=true)\n",
    "           \n",
    "specificDay = timestamp(2023, 1, 1)\n",
    "        \n",
    "drawLine() =>\n",
    "\"\"\")\n",
    "\n",
    "for i,elt in enumerate(converted_low) :\n",
    "    string_to_write = f\"\\tline.new({elt[0][0]}, {elt[0][1]}, {elt[1][0]}, {elt[1][1]}, width=2, color=color.blue, xloc=xloc.bar_time)\\n\"\n",
    "    elt2 = converted_high[i]\n",
    "    string_to_write_2 = f\"\\tline.new({elt2[0][0]}, {elt2[0][1]}, {elt2[1][0]}, {elt2[1][1]}, width=2, color=color.red, xloc=xloc.bar_time)\\n\"\n",
    "\n",
    "    file.write(string_to_write)\n",
    "    file.write(string_to_write_2)\n",
    "\n",
    "\n",
    "file.write(\"\"\"\n",
    "// Call the function to draw the line\n",
    "drawLine()\n",
    "\n",
    "\"\"\")\n",
    "\n",
    "file.close()"
   ]
  },
  {
   "cell_type": "code",
   "execution_count": 20,
   "metadata": {},
   "outputs": [
    {
     "name": "stdout",
     "output_type": "stream",
     "text": [
      "[(('0 * 86400000 + int(specificDay)', '16498.995356801075'), ('68 * 86400000 + int(specificDay)', '19549.24001510092')), (('68 * 86400000 + int(specificDay)', '19549.24001510092'), ('85 * 86400000 + int(specificDay)', '26508.962046989647')), (('85 * 86400000 + int(specificDay)', '26508.962046989647'), ('156 * 86400000 + int(specificDay)', '25350.964103953644')), (('156 * 86400000 + int(specificDay)', '25350.964103953644'), ('165 * 86400000 + int(specificDay)', '24797.541202427936')), (('165 * 86400000 + int(specificDay)', '24797.541202427936'), ('228 * 86400000 + int(specificDay)', '25217.743564769567')), (('228 * 86400000 + int(specificDay)', '25217.743564769567'), ('253 * 86400000 + int(specificDay)', '24901.876589705866')), (('253 * 86400000 + int(specificDay)', '24901.876589705866'), ('283 * 86400000 + int(specificDay)', '26538.366487253')), (('283 * 86400000 + int(specificDay)', '26538.366487253'), ('325 * 86400000 + int(specificDay)', '35632.84428137093')), (('325 * 86400000 + int(specificDay)', '35632.84428137093'), ('387 * 86400000 + int(specificDay)', '38552.7417378765'))]\n"
     ]
    }
   ],
   "source": [
    "filename = \"lists_data_40.pickle\" \n",
    "list_of_draw_low_40, list_of_draw_high_40, list_of_interval_40 = load_lists_from_pickle(filename)\n",
    "\n",
    "converted_low = good_format(list_of_draw_low_40)\n",
    "converted_high = good_format(list_of_draw_high_40)\n",
    "print(converted_low)\n",
    "\n",
    "file = open(\"./script_pina_3.txt\", 'w')\n",
    "file.write(\"\"\"//@version=5\n",
    "indicator(\"Custom Line Drawing\", overlay=true)\n",
    "           \n",
    "specificDay = timestamp(2023, 1, 1)\n",
    "        \n",
    "drawLine() =>\n",
    "\"\"\")\n",
    "\n",
    "for i,elt in enumerate(converted_low) :\n",
    "    string_to_write = f\"\\tline.new({elt[0][0]}, {elt[0][1]}, {elt[1][0]}, {elt[1][1]}, width=2, color=color.blue, xloc=xloc.bar_time)\\n\"\n",
    "    elt2 = converted_high[i]\n",
    "    string_to_write_2 = f\"\\tline.new({elt2[0][0]}, {elt2[0][1]}, {elt2[1][0]}, {elt2[1][1]}, width=2, color=color.red, xloc=xloc.bar_time)\\n\"\n",
    "\n",
    "    file.write(string_to_write)\n",
    "    file.write(string_to_write_2)\n",
    "\n",
    "\n",
    "file.write(\"\"\"\n",
    "// Call the function to draw the line\n",
    "drawLine()\n",
    "\n",
    "\"\"\")\n",
    "\n",
    "file.close()"
   ]
  }
 ],
 "metadata": {
  "kernelspec": {
   "display_name": "Python 3",
   "language": "python",
   "name": "python3"
  },
  "language_info": {
   "codemirror_mode": {
    "name": "ipython",
    "version": 3
   },
   "file_extension": ".py",
   "mimetype": "text/x-python",
   "name": "python",
   "nbconvert_exporter": "python",
   "pygments_lexer": "ipython3",
   "version": "3.10.12"
  },
  "orig_nbformat": 4
 },
 "nbformat": 4,
 "nbformat_minor": 2
}
