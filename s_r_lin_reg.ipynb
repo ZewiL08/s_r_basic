{
 "cells": [
  {
   "cell_type": "code",
   "execution_count": null,
   "metadata": {},
   "outputs": [],
   "source": [
    "//@version=5\n",
    "indicator(\"Custom Line Drawing\", overlay=true)\n",
    "\n",
    "# // Set the coordinates for the starting and ending points of the line\n",
    "# if bar_index == 1\n",
    "#     x1 := int(specificDay)\n",
    "#     y1 := 30000\n",
    "#     x2 := int(specificDay) + 86400 * 1000\n",
    "#     y2 := 35000\n",
    "\n",
    "drawLine() =>\n",
    "    line.new(timestamp(2023, 1, 1), y1, timestamp(2023, 1, 1) + 86400 * 1000 , y2, width=2, color=color.blue, xloc=xloc.bar_time)\n",
    "\n",
    "\n",
    "// Call the function to draw the line\n",
    "drawLine()\n",
    "\n",
    "// Reset input coordinates when bar changes\n",
    "if bar_index != bar_index[1]\n",
    "    x1 := na\n",
    "    y1 := na\n",
    "    x2 := na\n",
    "    y2 := na\n"
   ]
  },
  {
   "cell_type": "code",
   "execution_count": 1,
   "metadata": {},
   "outputs": [],
   "source": [
    "file = open(\"./script_pina.txt\", 'w')\n",
    "file.write(\"\"\"//@version=5\n",
    "indicator(\"Custom Line Drawing\", overlay=true)\n",
    "drawLine() =>\n",
    "           \"\"\")\n",
    "\n",
    "for elt in pina_pickle\n",
    "\n",
    "file.close()\n"
   ]
  }
 ],
 "metadata": {
  "kernelspec": {
   "display_name": "Python 3",
   "language": "python",
   "name": "python3"
  },
  "language_info": {
   "codemirror_mode": {
    "name": "ipython",
    "version": 3
   },
   "file_extension": ".py",
   "mimetype": "text/x-python",
   "name": "python",
   "nbconvert_exporter": "python",
   "pygments_lexer": "ipython3",
   "version": "3.10.12"
  },
  "orig_nbformat": 4
 },
 "nbformat": 4,
 "nbformat_minor": 2
}
